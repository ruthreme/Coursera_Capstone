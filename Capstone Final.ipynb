{
    "cells": [
        {
            "cell_type": "code",
            "execution_count": null,
            "metadata": {},
            "outputs": [],
            "source": "**The Battle of Neighbourhoods: IBM Capstone Project**"
        },
        {
            "cell_type": "code",
            "execution_count": null,
            "metadata": {},
            "outputs": [],
            "source": "**Introduction** \nAs part of the course we looked at location data for Toronto and New York, these cities had a lot of replies from the Foursquare API calls so I decided to look at smaller cities that are expanding and test if\na similar comparison can be done with them, the aim is to contribute to future interested parties for example data analysts, Tourists, location data managers, if there are limitations that might need to be resolved using a different API \nor collecting more data to feed into the requests etc.\n\nIn this project the comparison is between Toronto and London Ontario as I wanted to have a city which I had to start compiling the data as there was not much location data that was already compiled but also a city near Toronto \nso that can also inform anyone wanting to explore further than Toronto example Tourists on other places of interest.\n\nToronto is a multicultural city in the Province of Ontario, it is the most populated city in Canada, it had a population of over 2.7 million in 2016 (Canadian census),also has the highest proportion of minority ethnic population in Canada. \nIts economy is diversified: Art, Design, Banking & Finance, Life Science, Technology, Aerospace, Fashion, Education, Tourism etc, thus an attractive location for many headquarters of multinational corporations,\nit welcomes many immigrants annually thus attracting an inflow of talent and opportunities for innovation and expansion as well as having influence on the neighbourhood demographics and tastes.\n    \nAs urban centres grow some people move out to the suburbs to seek other job opportunities or choose to retire elsewhere, others move to be closer to friends and family, others seek a change etc. \nWhere to relocate to depends on many factors e.g. job opportunities in their industry, average wages, housing, public/community provisions, crime rates, access to amenities, warmer weather etc.  \n\nLondon is a city in Western Ontario which had a population of 383,822 in 2016 according to the Canadian census, it is about 120 miles from Toronto and Detroit. Strong industries are heathcare with several hospitals located in the city, \nEducation e.g the University of Western Ontario (UWO), Insurance and Technology industries. for heathcare and education with several hospitals located. Also they hold cultural events, Tourists can also explore the settlement changes that \nhappened after the natural disasters and immigration influence over time since the early settlers example links to the UK with many similar names and systems.   \n\n  \nI want to compare Downtown Toronto neighbourhoods and London Ontario using location data from Foursquare API, using the location data to look at the different neighbourhoods in these cities to find the most popular venues in each.\n"
        },
        {
            "cell_type": "code",
            "execution_count": null,
            "metadata": {},
            "outputs": [],
            "source": "**Data: The Foursquare API will be used to gather data on the different venues to analyse these urban neighbourhoods in Toronto and Western Ontario.\n     Data scrapping and cleaning using python packages.\n     Postcodes, neighbourhood, and Borough data for Toronto has been taken from a Wikipedia page List of postal codes of Canada: M - Wikipedia\n     The data for Western Ontario has been taken from another Wikipedia page List of postal codes of Canada: N - Wikipedia\n\n    Longitude and latitude data for Toronto was provided in week 3 of the course http://cocl.us/Geospatial_data\n    Western Ontario geographical coordinates data was gathered from GeoNames\n\n    I will cluster the neighbourhoods and choose top 10 most popular venues in each and plot them on a map using Folium to help visualise and interpret the data.\n"
        },
        {
            "cell_type": "code",
            "execution_count": null,
            "metadata": {},
            "outputs": [
                {
                    "name": "stdout",
                    "output_type": "stream",
                    "text": "Collecting folium\n  Downloading folium-0.12.1-py2.py3-none-any.whl (94 kB)\n\u001b[K     |\u2588\u2588\u2588\u2588\u2588\u2588\u2588\u2588\u2588\u2588\u2588\u2588\u2588\u2588\u2588\u2588\u2588\u2588\u2588\u2588\u2588\u2588\u2588\u2588\u2588\u2588\u2588\u2588\u2588\u2588\u2588\u2588| 94 kB 5.8 MB/s  eta 0:00:01\n\u001b[?25hRequirement already satisfied: numpy in /opt/conda/envs/Python-3.7-main/lib/python3.7/site-packages (from folium) (1.18.5)\nRequirement already satisfied: requests in /opt/conda/envs/Python-3.7-main/lib/python3.7/site-packages (from folium) (2.24.0)\nCollecting branca>=0.3.0\n  Downloading branca-0.4.2-py3-none-any.whl (24 kB)\n"
                }
            ],
            "source": "import pandas as pd\npd.set_option('display.max_columns', None)\npd.set_option('display.max_rows', None)\n\nimport numpy as np\n\nimport json\n\nfrom geopy.geocoders import Nominatim \n\nimport requests \nfrom pandas.io.json import json_normalize\n\nimport matplotlib.cm as cm\n\nimport matplotlib.colors as colors\n\nfrom sklearn.cluster import KMeans\n\n!pip install folium\n\nprint(\"Libraries Imported\")"
        },
        {
            "cell_type": "code",
            "execution_count": null,
            "metadata": {},
            "outputs": [],
            "source": ""
        }
    ],
    "metadata": {
        "kernelspec": {
            "display_name": "Python 3.7",
            "language": "python",
            "name": "python3"
        },
        "language_info": {
            "codemirror_mode": {
                "name": "ipython",
                "version": 3
            },
            "file_extension": ".py",
            "mimetype": "text/x-python",
            "name": "python",
            "nbconvert_exporter": "python",
            "pygments_lexer": "ipython3",
            "version": "3.7.9"
        }
    },
    "nbformat": 4,
    "nbformat_minor": 1
}